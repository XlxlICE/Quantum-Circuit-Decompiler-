{
 "cells": [
  {
   "cell_type": "code",
   "execution_count": 6,
   "metadata": {},
   "outputs": [
    {
     "name": "stdout",
     "output_type": "stream",
     "text": [
      "d:\\course\\thesis\\Project2\\QCD\n"
     ]
    }
   ],
   "source": [
    "import os\n",
    "print(os.getcwd())\n"
   ]
  },
  {
   "cell_type": "code",
   "execution_count": 1,
   "metadata": {},
   "outputs": [
    {
     "name": "stderr",
     "output_type": "stream",
     "text": [
      "d:\\programing\\Anaconda\\lib\\site-packages\\numpy\\_distributor_init.py:30: UserWarning: loaded more than 1 DLL from .libs:\n",
      "d:\\programing\\Anaconda\\lib\\site-packages\\numpy\\.libs\\libopenblas.FB5AE2TYXYH2IJRDKGDGQ3XBKLKTF43H.gfortran-win_amd64.dll\n",
      "d:\\programing\\Anaconda\\lib\\site-packages\\numpy\\.libs\\libopenblas64__v0.3.21-gcc_10_3_0.dll\n",
      "  warnings.warn(\"loaded more than 1 DLL from .libs:\"\n"
     ]
    }
   ],
   "source": [
    "from algorthims import *"
   ]
  },
  {
   "cell_type": "code",
   "execution_count": 3,
   "metadata": {},
   "outputs": [],
   "source": [
    "def QASM_generator(circuitname, max_qubit):\n",
    "    # 创建目录\n",
    "    directory = \"Circuits\"\n",
    "    if not os.path.exists(directory):\n",
    "        os.makedirs(directory)\n",
    "\n",
    "    # 根据circuitname选择对应的函数\n",
    "    circuit_func = None\n",
    "    if circuitname == \"grover\":\n",
    "        circuit_func = grover\n",
    "    elif circuitname == \"qft\":\n",
    "        circuit_func = qft\n",
    "    elif circuitname == \"qpe\":\n",
    "        circuit_func = qpe\n",
    "    else:\n",
    "        print(\"Unsupported circuit name.\")\n",
    "        return\n",
    "\n",
    "    for n in range(2, max_qubit + 1):\n",
    "      \n",
    "        circuit = circuit_func(n)\n",
    "       \n",
    "        qasm_str = circuit.qasm()\n",
    "\n",
    "        filename = os.path.join(directory, f\"{circuitname}_{n}.qasm\")\n",
    "        with open(filename, \"w\") as file:\n",
    "            file.write(qasm_str)\n",
    "        print(f\"Saved {filename}\")"
   ]
  },
  {
   "cell_type": "code",
   "execution_count": 10,
   "metadata": {},
   "outputs": [
    {
     "name": "stdout",
     "output_type": "stream",
     "text": [
      "Saved Circuits\\qft_2.qasm\n",
      "Saved Circuits\\qft_3.qasm\n",
      "Saved Circuits\\qft_4.qasm\n",
      "Saved Circuits\\qft_5.qasm\n",
      "Saved Circuits\\qft_6.qasm\n",
      "Saved Circuits\\qft_7.qasm\n",
      "Saved Circuits\\qft_8.qasm\n",
      "Saved Circuits\\qft_9.qasm\n",
      "Saved Circuits\\qft_10.qasm\n",
      "Saved Circuits\\qft_11.qasm\n",
      "Saved Circuits\\qft_12.qasm\n",
      "Saved Circuits\\qpe_2.qasm\n",
      "Saved Circuits\\qpe_3.qasm\n",
      "Saved Circuits\\qpe_4.qasm\n",
      "Saved Circuits\\qpe_5.qasm\n",
      "Saved Circuits\\qpe_6.qasm\n",
      "Saved Circuits\\qpe_7.qasm\n",
      "Saved Circuits\\qpe_8.qasm\n",
      "Saved Circuits\\qpe_9.qasm\n",
      "Saved Circuits\\qpe_10.qasm\n",
      "Saved Circuits\\qpe_11.qasm\n",
      "Saved Circuits\\qpe_12.qasm\n",
      "Saved Circuits\\grover_2.qasm\n",
      "Saved Circuits\\grover_3.qasm\n",
      "Saved Circuits\\grover_4.qasm\n",
      "Saved Circuits\\grover_5.qasm\n",
      "Saved Circuits\\grover_6.qasm\n",
      "Saved Circuits\\grover_7.qasm\n",
      "Saved Circuits\\grover_8.qasm\n",
      "Saved Circuits\\grover_9.qasm\n",
      "Saved Circuits\\grover_10.qasm\n",
      "Saved Circuits\\grover_11.qasm\n",
      "Saved Circuits\\grover_12.qasm\n"
     ]
    }
   ],
   "source": [
    "QASM_generator('qft',20)\n",
    "QASM_generator('qpe',20)\n",
    "QASM_generator('grover',20)"
   ]
  }
 ],
 "metadata": {
  "kernelspec": {
   "display_name": "base",
   "language": "python",
   "name": "python3"
  },
  "language_info": {
   "codemirror_mode": {
    "name": "ipython",
    "version": 3
   },
   "file_extension": ".py",
   "mimetype": "text/x-python",
   "name": "python",
   "nbconvert_exporter": "python",
   "pygments_lexer": "ipython3",
   "version": "3.9.18"
  }
 },
 "nbformat": 4,
 "nbformat_minor": 2
}
